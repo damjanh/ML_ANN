{
 "cells": [
  {
   "cell_type": "markdown",
   "metadata": {},
   "source": [
    "# Artificial Neural Network"
   ]
  },
  {
   "cell_type": "markdown",
   "metadata": {},
   "source": [
    "### Importing libraries"
   ]
  },
  {
   "cell_type": "code",
   "execution_count": 13,
   "metadata": {},
   "outputs": [
    {
     "name": "stdout",
     "output_type": "stream",
     "text": [
      "2.13.0\n"
     ]
    }
   ],
   "source": [
    "import numpy as np\n",
    "import matplotlib.pyplot as plt\n",
    "import pandas as pd\n",
    "\n",
    "import tensorflow as tf\n",
    "print(tf.__version__)"
   ]
  },
  {
   "cell_type": "markdown",
   "metadata": {},
   "source": [
    "## Data Preprocessing"
   ]
  },
  {
   "cell_type": "markdown",
   "metadata": {},
   "source": [
    "### Importing dataset"
   ]
  },
  {
   "cell_type": "code",
   "execution_count": 6,
   "metadata": {},
   "outputs": [],
   "source": [
    "dataset = pd.read_csv('./Churn_Modelling.csv')\n",
    "X = dataset.iloc[:, 3:-1].values\n",
    "y = dataset.iloc[:, -1].values"
   ]
  },
  {
   "cell_type": "code",
   "execution_count": 7,
   "metadata": {},
   "outputs": [
    {
     "name": "stdout",
     "output_type": "stream",
     "text": [
      "[[619 'France' 'Female' ... 1 1 101348.88]\n",
      " [608 'Spain' 'Female' ... 0 1 112542.58]\n",
      " [502 'France' 'Female' ... 1 0 113931.57]\n",
      " ...\n",
      " [709 'France' 'Female' ... 0 1 42085.58]\n",
      " [772 'Germany' 'Male' ... 1 0 92888.52]\n",
      " [792 'France' 'Female' ... 1 0 38190.78]]\n"
     ]
    }
   ],
   "source": [
    "print(X)"
   ]
  },
  {
   "cell_type": "markdown",
   "metadata": {},
   "source": [
    "### Encoding categorical data"
   ]
  },
  {
   "cell_type": "markdown",
   "metadata": {},
   "source": [
    "#### Label encoding gender column"
   ]
  },
  {
   "cell_type": "code",
   "execution_count": 14,
   "metadata": {},
   "outputs": [],
   "source": [
    "from sklearn.preprocessing import LabelEncoder\n",
    "le = LabelEncoder()\n",
    "X[:, 2] = le.fit_transform(X[:, 2])"
   ]
  },
  {
   "cell_type": "code",
   "execution_count": 15,
   "metadata": {},
   "outputs": [
    {
     "name": "stdout",
     "output_type": "stream",
     "text": [
      "[[619 'France' 0 ... 1 1 101348.88]\n",
      " [608 'Spain' 0 ... 0 1 112542.58]\n",
      " [502 'France' 0 ... 1 0 113931.57]\n",
      " ...\n",
      " [709 'France' 0 ... 0 1 42085.58]\n",
      " [772 'Germany' 1 ... 1 0 92888.52]\n",
      " [792 'France' 0 ... 1 0 38190.78]]\n"
     ]
    }
   ],
   "source": [
    "print(X)"
   ]
  },
  {
   "cell_type": "markdown",
   "metadata": {},
   "source": [
    "#### One Hot Encoding of Country"
   ]
  },
  {
   "cell_type": "code",
   "execution_count": 16,
   "metadata": {},
   "outputs": [],
   "source": [
    "from sklearn.compose import ColumnTransformer\n",
    "from sklearn.preprocessing import OneHotEncoder\n",
    "ct = ColumnTransformer(transformers=[('encoder', OneHotEncoder(), [1])], remainder='passthrough')\n",
    "X = np.array(ct.fit_transform(X))"
   ]
  },
  {
   "cell_type": "code",
   "execution_count": 17,
   "metadata": {},
   "outputs": [
    {
     "name": "stdout",
     "output_type": "stream",
     "text": [
      "[[1.0 0.0 0.0 ... 1 1 101348.88]\n",
      " [0.0 0.0 1.0 ... 0 1 112542.58]\n",
      " [1.0 0.0 0.0 ... 1 0 113931.57]\n",
      " ...\n",
      " [1.0 0.0 0.0 ... 0 1 42085.58]\n",
      " [0.0 1.0 0.0 ... 1 0 92888.52]\n",
      " [1.0 0.0 0.0 ... 1 0 38190.78]]\n"
     ]
    }
   ],
   "source": [
    "print(X)"
   ]
  },
  {
   "cell_type": "markdown",
   "metadata": {},
   "source": [
    "### Splitting dataset into Training set and Test set"
   ]
  },
  {
   "cell_type": "code",
   "execution_count": 18,
   "metadata": {},
   "outputs": [],
   "source": [
    "from sklearn.model_selection import train_test_split\n",
    "X_train, X_test, y_train, y_test = train_test_split(X, y, test_size= 0.2)"
   ]
  },
  {
   "cell_type": "markdown",
   "metadata": {},
   "source": [
    "### Feature scaling"
   ]
  },
  {
   "cell_type": "code",
   "execution_count": 19,
   "metadata": {},
   "outputs": [],
   "source": [
    "from sklearn.preprocessing import StandardScaler\n",
    "sc = StandardScaler()\n",
    "X_train = sc.fit_transform(X_train)\n",
    "X_test = sc.transform(X_test)"
   ]
  },
  {
   "cell_type": "markdown",
   "metadata": {},
   "source": [
    "## Build the ANN"
   ]
  },
  {
   "cell_type": "markdown",
   "metadata": {},
   "source": [
    "### Initialize ANN"
   ]
  },
  {
   "cell_type": "code",
   "execution_count": 20,
   "metadata": {},
   "outputs": [],
   "source": [
    "ann = tf.keras.models.Sequential()"
   ]
  },
  {
   "cell_type": "markdown",
   "metadata": {},
   "source": [
    "### Addin input layer and first hidden layer"
   ]
  },
  {
   "cell_type": "code",
   "execution_count": 21,
   "metadata": {},
   "outputs": [],
   "source": [
    "ann.add(tf.keras.layers.Dense(units=6, activation='relu'))"
   ]
  },
  {
   "cell_type": "markdown",
   "metadata": {},
   "source": [
    "### Adding a second hidden layer"
   ]
  },
  {
   "cell_type": "code",
   "execution_count": 22,
   "metadata": {},
   "outputs": [],
   "source": [
    "ann.add(tf.keras.layers.Dense(units=6, activation='relu'))"
   ]
  },
  {
   "cell_type": "markdown",
   "metadata": {},
   "source": [
    "### Adding the output layer"
   ]
  },
  {
   "cell_type": "code",
   "execution_count": 23,
   "metadata": {},
   "outputs": [],
   "source": [
    "ann.add(tf.keras.layers.Dense(units=1, activation='sigmoid'))"
   ]
  },
  {
   "cell_type": "markdown",
   "metadata": {},
   "source": [
    "## Training the ANN"
   ]
  },
  {
   "cell_type": "markdown",
   "metadata": {},
   "source": [
    "### Compiling the ANN"
   ]
  },
  {
   "cell_type": "code",
   "execution_count": 24,
   "metadata": {},
   "outputs": [],
   "source": [
    "ann.compile(optimizer='adam', loss='binary_crossentropy', metrics=['accuracy'])"
   ]
  },
  {
   "cell_type": "markdown",
   "metadata": {},
   "source": [
    "### Training the ANN on the Training set"
   ]
  },
  {
   "cell_type": "code",
   "execution_count": 25,
   "metadata": {},
   "outputs": [
    {
     "name": "stdout",
     "output_type": "stream",
     "text": [
      "Epoch 1/100\n",
      "250/250 [==============================] - 1s 702us/step - loss: 0.5894 - accuracy: 0.7240\n",
      "Epoch 2/100\n",
      "250/250 [==============================] - 0s 666us/step - loss: 0.4677 - accuracy: 0.8004\n",
      "Epoch 3/100\n",
      "250/250 [==============================] - 0s 662us/step - loss: 0.4387 - accuracy: 0.8004\n",
      "Epoch 4/100\n",
      "250/250 [==============================] - 0s 698us/step - loss: 0.4249 - accuracy: 0.8090\n",
      "Epoch 5/100\n",
      "250/250 [==============================] - 0s 661us/step - loss: 0.4153 - accuracy: 0.8216\n",
      "Epoch 6/100\n",
      "250/250 [==============================] - 0s 652us/step - loss: 0.4059 - accuracy: 0.8260\n",
      "Epoch 7/100\n",
      "250/250 [==============================] - 0s 678us/step - loss: 0.3960 - accuracy: 0.8338\n",
      "Epoch 8/100\n",
      "250/250 [==============================] - 0s 684us/step - loss: 0.3851 - accuracy: 0.8401\n",
      "Epoch 9/100\n",
      "250/250 [==============================] - 0s 690us/step - loss: 0.3740 - accuracy: 0.8476\n",
      "Epoch 10/100\n",
      "250/250 [==============================] - 0s 659us/step - loss: 0.3646 - accuracy: 0.8520\n",
      "Epoch 11/100\n",
      "250/250 [==============================] - 0s 678us/step - loss: 0.3569 - accuracy: 0.8550\n",
      "Epoch 12/100\n",
      "250/250 [==============================] - 0s 688us/step - loss: 0.3514 - accuracy: 0.8581\n",
      "Epoch 13/100\n",
      "250/250 [==============================] - 0s 672us/step - loss: 0.3477 - accuracy: 0.8595\n",
      "Epoch 14/100\n",
      "250/250 [==============================] - 0s 649us/step - loss: 0.3449 - accuracy: 0.8600\n",
      "Epoch 15/100\n",
      "250/250 [==============================] - 0s 670us/step - loss: 0.3434 - accuracy: 0.8606\n",
      "Epoch 16/100\n",
      "250/250 [==============================] - 0s 663us/step - loss: 0.3425 - accuracy: 0.8606\n",
      "Epoch 17/100\n",
      "250/250 [==============================] - 0s 659us/step - loss: 0.3407 - accuracy: 0.8618\n",
      "Epoch 18/100\n",
      "250/250 [==============================] - 0s 652us/step - loss: 0.3400 - accuracy: 0.8629\n",
      "Epoch 19/100\n",
      "250/250 [==============================] - 0s 672us/step - loss: 0.3389 - accuracy: 0.8634\n",
      "Epoch 20/100\n",
      "250/250 [==============================] - 0s 654us/step - loss: 0.3386 - accuracy: 0.8640\n",
      "Epoch 21/100\n",
      "250/250 [==============================] - 0s 665us/step - loss: 0.3380 - accuracy: 0.8637\n",
      "Epoch 22/100\n",
      "250/250 [==============================] - 0s 643us/step - loss: 0.3372 - accuracy: 0.8651\n",
      "Epoch 23/100\n",
      "250/250 [==============================] - 0s 652us/step - loss: 0.3366 - accuracy: 0.8640\n",
      "Epoch 24/100\n",
      "250/250 [==============================] - 0s 642us/step - loss: 0.3364 - accuracy: 0.8644\n",
      "Epoch 25/100\n",
      "250/250 [==============================] - 0s 652us/step - loss: 0.3360 - accuracy: 0.8643\n",
      "Epoch 26/100\n",
      "250/250 [==============================] - 0s 657us/step - loss: 0.3355 - accuracy: 0.8635\n",
      "Epoch 27/100\n",
      "250/250 [==============================] - 0s 656us/step - loss: 0.3352 - accuracy: 0.8633\n",
      "Epoch 28/100\n",
      "250/250 [==============================] - 0s 652us/step - loss: 0.3352 - accuracy: 0.8637\n",
      "Epoch 29/100\n",
      "250/250 [==============================] - 0s 678us/step - loss: 0.3345 - accuracy: 0.8654\n",
      "Epoch 30/100\n",
      "250/250 [==============================] - 0s 649us/step - loss: 0.3345 - accuracy: 0.8652\n",
      "Epoch 31/100\n",
      "250/250 [==============================] - 0s 659us/step - loss: 0.3346 - accuracy: 0.8655\n",
      "Epoch 32/100\n",
      "250/250 [==============================] - 0s 662us/step - loss: 0.3342 - accuracy: 0.8664\n",
      "Epoch 33/100\n",
      "250/250 [==============================] - 0s 677us/step - loss: 0.3338 - accuracy: 0.8665\n",
      "Epoch 34/100\n",
      "250/250 [==============================] - 0s 654us/step - loss: 0.3335 - accuracy: 0.8661\n",
      "Epoch 35/100\n",
      "250/250 [==============================] - 0s 654us/step - loss: 0.3332 - accuracy: 0.8668\n",
      "Epoch 36/100\n",
      "250/250 [==============================] - 0s 650us/step - loss: 0.3329 - accuracy: 0.8654\n",
      "Epoch 37/100\n",
      "250/250 [==============================] - 0s 682us/step - loss: 0.3324 - accuracy: 0.8674\n",
      "Epoch 38/100\n",
      "250/250 [==============================] - 0s 647us/step - loss: 0.3322 - accuracy: 0.8665\n",
      "Epoch 39/100\n",
      "250/250 [==============================] - 0s 637us/step - loss: 0.3316 - accuracy: 0.8662\n",
      "Epoch 40/100\n",
      "250/250 [==============================] - 0s 662us/step - loss: 0.3315 - accuracy: 0.8650\n",
      "Epoch 41/100\n",
      "250/250 [==============================] - 0s 662us/step - loss: 0.3313 - accuracy: 0.8649\n",
      "Epoch 42/100\n",
      "250/250 [==============================] - 0s 640us/step - loss: 0.3310 - accuracy: 0.8669\n",
      "Epoch 43/100\n",
      "250/250 [==============================] - 0s 678us/step - loss: 0.3303 - accuracy: 0.8679\n",
      "Epoch 44/100\n",
      "250/250 [==============================] - 0s 714us/step - loss: 0.3304 - accuracy: 0.8654\n",
      "Epoch 45/100\n",
      "250/250 [==============================] - 0s 637us/step - loss: 0.3304 - accuracy: 0.8675\n",
      "Epoch 46/100\n",
      "250/250 [==============================] - 0s 666us/step - loss: 0.3303 - accuracy: 0.8659\n",
      "Epoch 47/100\n",
      "250/250 [==============================] - 0s 647us/step - loss: 0.3300 - accuracy: 0.8665\n",
      "Epoch 48/100\n",
      "250/250 [==============================] - 0s 647us/step - loss: 0.3296 - accuracy: 0.8662\n",
      "Epoch 49/100\n",
      "250/250 [==============================] - 0s 649us/step - loss: 0.3294 - accuracy: 0.8676\n",
      "Epoch 50/100\n",
      "250/250 [==============================] - 0s 649us/step - loss: 0.3295 - accuracy: 0.8675\n",
      "Epoch 51/100\n",
      "250/250 [==============================] - 0s 649us/step - loss: 0.3290 - accuracy: 0.8660\n",
      "Epoch 52/100\n",
      "250/250 [==============================] - 0s 657us/step - loss: 0.3288 - accuracy: 0.8666\n",
      "Epoch 53/100\n",
      "250/250 [==============================] - 0s 654us/step - loss: 0.3289 - accuracy: 0.8683\n",
      "Epoch 54/100\n",
      "250/250 [==============================] - 0s 647us/step - loss: 0.3286 - accuracy: 0.8664\n",
      "Epoch 55/100\n",
      "250/250 [==============================] - 0s 644us/step - loss: 0.3281 - accuracy: 0.8660\n",
      "Epoch 56/100\n",
      "250/250 [==============================] - 0s 649us/step - loss: 0.3289 - accuracy: 0.8677\n",
      "Epoch 57/100\n",
      "250/250 [==============================] - 0s 656us/step - loss: 0.3283 - accuracy: 0.8675\n",
      "Epoch 58/100\n",
      "250/250 [==============================] - 0s 686us/step - loss: 0.3281 - accuracy: 0.8665\n",
      "Epoch 59/100\n",
      "250/250 [==============================] - 0s 651us/step - loss: 0.3277 - accuracy: 0.8655\n",
      "Epoch 60/100\n",
      "250/250 [==============================] - 0s 657us/step - loss: 0.3280 - accuracy: 0.8673\n",
      "Epoch 61/100\n",
      "250/250 [==============================] - 0s 648us/step - loss: 0.3278 - accuracy: 0.8683\n",
      "Epoch 62/100\n",
      "250/250 [==============================] - 0s 655us/step - loss: 0.3277 - accuracy: 0.8684\n",
      "Epoch 63/100\n",
      "250/250 [==============================] - 0s 638us/step - loss: 0.3279 - accuracy: 0.8675\n",
      "Epoch 64/100\n",
      "250/250 [==============================] - 0s 668us/step - loss: 0.3272 - accuracy: 0.8668\n",
      "Epoch 65/100\n",
      "250/250 [==============================] - 0s 654us/step - loss: 0.3277 - accuracy: 0.8674\n",
      "Epoch 66/100\n",
      "250/250 [==============================] - 0s 646us/step - loss: 0.3272 - accuracy: 0.8681\n",
      "Epoch 67/100\n",
      "250/250 [==============================] - 0s 674us/step - loss: 0.3270 - accuracy: 0.8684\n",
      "Epoch 68/100\n",
      "250/250 [==============================] - 0s 641us/step - loss: 0.3273 - accuracy: 0.8679\n",
      "Epoch 69/100\n",
      "250/250 [==============================] - 0s 650us/step - loss: 0.3270 - accuracy: 0.8691\n",
      "Epoch 70/100\n",
      "250/250 [==============================] - 0s 662us/step - loss: 0.3269 - accuracy: 0.8686\n",
      "Epoch 71/100\n",
      "250/250 [==============================] - 0s 639us/step - loss: 0.3268 - accuracy: 0.8685\n",
      "Epoch 72/100\n",
      "250/250 [==============================] - 0s 638us/step - loss: 0.3270 - accuracy: 0.8687\n",
      "Epoch 73/100\n",
      "250/250 [==============================] - 0s 647us/step - loss: 0.3266 - accuracy: 0.8686\n",
      "Epoch 74/100\n",
      "250/250 [==============================] - 0s 644us/step - loss: 0.3268 - accuracy: 0.8676\n",
      "Epoch 75/100\n",
      "250/250 [==============================] - 0s 663us/step - loss: 0.3267 - accuracy: 0.8673\n",
      "Epoch 76/100\n",
      "250/250 [==============================] - 0s 654us/step - loss: 0.3269 - accuracy: 0.8675\n",
      "Epoch 77/100\n",
      "250/250 [==============================] - 0s 652us/step - loss: 0.3268 - accuracy: 0.8674\n",
      "Epoch 78/100\n",
      "250/250 [==============================] - 0s 656us/step - loss: 0.3263 - accuracy: 0.8690\n",
      "Epoch 79/100\n",
      "250/250 [==============================] - 0s 657us/step - loss: 0.3265 - accuracy: 0.8690\n",
      "Epoch 80/100\n",
      "250/250 [==============================] - 0s 659us/step - loss: 0.3267 - accuracy: 0.8691\n",
      "Epoch 81/100\n",
      "250/250 [==============================] - 0s 698us/step - loss: 0.3263 - accuracy: 0.8689\n",
      "Epoch 82/100\n",
      "250/250 [==============================] - 0s 657us/step - loss: 0.3263 - accuracy: 0.8685\n",
      "Epoch 83/100\n",
      "250/250 [==============================] - 0s 663us/step - loss: 0.3261 - accuracy: 0.8671\n",
      "Epoch 84/100\n",
      "250/250 [==============================] - 0s 663us/step - loss: 0.3265 - accuracy: 0.8681\n",
      "Epoch 85/100\n",
      "250/250 [==============================] - 0s 667us/step - loss: 0.3265 - accuracy: 0.8685\n",
      "Epoch 86/100\n",
      "250/250 [==============================] - 0s 653us/step - loss: 0.3265 - accuracy: 0.8665\n",
      "Epoch 87/100\n",
      "250/250 [==============================] - 0s 649us/step - loss: 0.3265 - accuracy: 0.8685\n",
      "Epoch 88/100\n",
      "250/250 [==============================] - 0s 652us/step - loss: 0.3266 - accuracy: 0.8685\n",
      "Epoch 89/100\n",
      "250/250 [==============================] - 0s 652us/step - loss: 0.3261 - accuracy: 0.8681\n",
      "Epoch 90/100\n",
      "250/250 [==============================] - 0s 657us/step - loss: 0.3271 - accuracy: 0.8679\n",
      "Epoch 91/100\n",
      "250/250 [==============================] - 0s 665us/step - loss: 0.3261 - accuracy: 0.8691\n",
      "Epoch 92/100\n",
      "250/250 [==============================] - 0s 668us/step - loss: 0.3263 - accuracy: 0.8681\n",
      "Epoch 93/100\n",
      "250/250 [==============================] - 0s 667us/step - loss: 0.3266 - accuracy: 0.8674\n",
      "Epoch 94/100\n",
      "250/250 [==============================] - 0s 664us/step - loss: 0.3262 - accuracy: 0.8686\n",
      "Epoch 95/100\n",
      "250/250 [==============================] - 0s 658us/step - loss: 0.3262 - accuracy: 0.8671\n",
      "Epoch 96/100\n",
      "250/250 [==============================] - 0s 664us/step - loss: 0.3260 - accuracy: 0.8687\n",
      "Epoch 97/100\n",
      "250/250 [==============================] - 0s 651us/step - loss: 0.3262 - accuracy: 0.8691\n",
      "Epoch 98/100\n",
      "250/250 [==============================] - 0s 662us/step - loss: 0.3263 - accuracy: 0.8684\n",
      "Epoch 99/100\n",
      "250/250 [==============================] - 0s 669us/step - loss: 0.3262 - accuracy: 0.8695\n",
      "Epoch 100/100\n",
      "250/250 [==============================] - 0s 640us/step - loss: 0.3260 - accuracy: 0.8665\n"
     ]
    },
    {
     "data": {
      "text/plain": [
       "<keras.src.callbacks.History at 0x1d711616a90>"
      ]
     },
     "execution_count": 25,
     "metadata": {},
     "output_type": "execute_result"
    }
   ],
   "source": [
    "ann.fit(X_train, y_train, batch_size=32, epochs=100)"
   ]
  },
  {
   "cell_type": "markdown",
   "metadata": {},
   "source": [
    "## Making predictions and evaluating the model"
   ]
  },
  {
   "cell_type": "markdown",
   "metadata": {},
   "source": [
    "### Predicting the result of a single observation"
   ]
  },
  {
   "cell_type": "code",
   "execution_count": 26,
   "metadata": {},
   "outputs": [
    {
     "name": "stdout",
     "output_type": "stream",
     "text": [
      "1/1 [==============================] - 0s 69ms/step\n",
      "[[0.02658909]]\n"
     ]
    }
   ],
   "source": [
    "probability = ann.predict(sc.transform([[1, 0, 0, 600, 1, 40, 3, 60000, 2, 1, 1, 50000]]))\n",
    "print(probability)"
   ]
  },
  {
   "cell_type": "markdown",
   "metadata": {},
   "source": [
    "### Predicting the Test set Results"
   ]
  },
  {
   "cell_type": "code",
   "execution_count": 27,
   "metadata": {},
   "outputs": [
    {
     "name": "stdout",
     "output_type": "stream",
     "text": [
      "63/63 [==============================] - 0s 581us/step\n",
      "[[0 0]\n",
      " [0 0]\n",
      " [1 1]\n",
      " ...\n",
      " [0 0]\n",
      " [0 0]\n",
      " [0 1]]\n"
     ]
    }
   ],
   "source": [
    "y_pred = ann.predict(X_test)\n",
    "y_pred = (y_pred > 0.5)\n",
    "\n",
    "print(np.concatenate((y_pred.reshape(len(y_pred), 1), y_test.reshape(len(y_test), 1)), 1))"
   ]
  },
  {
   "cell_type": "markdown",
   "metadata": {},
   "source": [
    "### Confusion Matrix"
   ]
  },
  {
   "cell_type": "code",
   "execution_count": 28,
   "metadata": {},
   "outputs": [
    {
     "name": "stdout",
     "output_type": "stream",
     "text": [
      "[[1492   68]\n",
      " [ 227  213]]\n"
     ]
    },
    {
     "data": {
      "text/plain": [
       "0.8525"
      ]
     },
     "execution_count": 28,
     "metadata": {},
     "output_type": "execute_result"
    }
   ],
   "source": [
    "from sklearn.metrics import confusion_matrix, accuracy_score\n",
    "cm = confusion_matrix(y_test, y_pred)\n",
    "print(cm)\n",
    "accuracy_score(y_test, y_pred)"
   ]
  }
 ],
 "metadata": {
  "kernelspec": {
   "display_name": "Python 3",
   "language": "python",
   "name": "python3"
  },
  "language_info": {
   "codemirror_mode": {
    "name": "ipython",
    "version": 3
   },
   "file_extension": ".py",
   "mimetype": "text/x-python",
   "name": "python",
   "nbconvert_exporter": "python",
   "pygments_lexer": "ipython3",
   "version": "3.11.4"
  },
  "orig_nbformat": 4
 },
 "nbformat": 4,
 "nbformat_minor": 2
}
